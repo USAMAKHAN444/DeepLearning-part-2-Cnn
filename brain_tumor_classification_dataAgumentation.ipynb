{
  "nbformat": 4,
  "nbformat_minor": 0,
  "metadata": {
    "colab": {
      "provenance": [],
      "authorship_tag": "ABX9TyMnz1drDwZ4vN2XlV2NAeqP",
      "include_colab_link": true
    },
    "kernelspec": {
      "name": "python3",
      "display_name": "Python 3"
    },
    "language_info": {
      "name": "python"
    },
    "accelerator": "TPU",
    "gpuClass": "standard"
  },
  "cells": [
    {
      "cell_type": "markdown",
      "metadata": {
        "id": "view-in-github",
        "colab_type": "text"
      },
      "source": [
        "<a href=\"https://colab.research.google.com/github/USAMAKHAN444/DeepLearning-part-2-Cnn/blob/main/brain_tumor_classification_dataAgumentation.ipynb\" target=\"_parent\"><img src=\"https://colab.research.google.com/assets/colab-badge.svg\" alt=\"Open In Colab\"/></a>"
      ]
    },
    {
      "cell_type": "code",
      "source": [
        "!mkdir -p ~/.kaggle\n",
        "!cp kaggle.json ~/.kaggle/"
      ],
      "metadata": {
        "id": "KeviZ_1z4c7r"
      },
      "execution_count": 8,
      "outputs": []
    },
    {
      "cell_type": "code",
      "source": [
        "!kaggle datasets download -d sartajbhuvaji/brain-tumor-classification-mri"
      ],
      "metadata": {
        "colab": {
          "base_uri": "https://localhost:8080/"
        },
        "id": "yhFYn5cB4fSp",
        "outputId": "bec1f75d-1a41-4764-b680-172da74638f8"
      },
      "execution_count": 9,
      "outputs": [
        {
          "output_type": "stream",
          "name": "stdout",
          "text": [
            "Warning: Your Kaggle API key is readable by other users on this system! To fix this, you can run 'chmod 600 /root/.kaggle/kaggle.json'\n",
            "Downloading brain-tumor-classification-mri.zip to /content\n",
            " 85% 74.0M/86.8M [00:00<00:00, 272MB/s]\n",
            "100% 86.8M/86.8M [00:00<00:00, 258MB/s]\n"
          ]
        }
      ]
    },
    {
      "cell_type": "code",
      "source": [
        "import zipfile\n",
        "zip_ref = zipfile.ZipFile('/content/brain-tumor-classification.zip', 'r')\n",
        "zip_ref.extractall('/content')\n",
        "zip_ref.close()"
      ],
      "metadata": {
        "id": "4e27Wa7Cs_2n"
      },
      "execution_count": 10,
      "outputs": []
    },
    {
      "cell_type": "code",
      "source": [
        "\n",
        "batch_size = 16\n",
        "from keras.preprocessing.image import ImageDataGenerator\n",
        "\n",
        "train_datagen = ImageDataGenerator(\n",
        "        rescale=1./255,\n",
        "        shear_range=0.2,\n",
        "        zoom_range=0.2,\n",
        "        horizontal_flip=True)"
      ],
      "metadata": {
        "id": "DlYGKe0ns_63"
      },
      "execution_count": 11,
      "outputs": []
    },
    {
      "cell_type": "code",
      "source": [
        "test_datagen = ImageDataGenerator(rescale=1./255)"
      ],
      "metadata": {
        "id": "cg-MLui7s_8_"
      },
      "execution_count": 12,
      "outputs": []
    },
    {
      "cell_type": "code",
      "source": [
        "train_generator =train_datagen.flow_from_directory(\n",
        "        \"/content/Training\",\n",
        "        target_size=(150,150),\n",
        "        batch_size=batch_size,\n",
        "        class_mode='sparse')"
      ],
      "metadata": {
        "colab": {
          "base_uri": "https://localhost:8080/"
        },
        "id": "Qlt_NluCs_-8",
        "outputId": "828a0733-8640-4dc6-89b0-4d8269a5b935"
      },
      "execution_count": 13,
      "outputs": [
        {
          "output_type": "stream",
          "name": "stdout",
          "text": [
            "Found 2870 images belonging to 4 classes.\n"
          ]
        }
      ]
    },
    {
      "cell_type": "code",
      "source": [
        "\n",
        "validation_generator = test_datagen.flow_from_directory(\n",
        "        \"/content/Testing\",\n",
        "        target_size=(150,150),\n",
        "        batch_size=batch_size,\n",
        "        class_mode='sparse')"
      ],
      "metadata": {
        "colab": {
          "base_uri": "https://localhost:8080/"
        },
        "id": "0swExMettAB2",
        "outputId": "ec944e2e-da49-41d9-e029-420c6505a526"
      },
      "execution_count": 14,
      "outputs": [
        {
          "output_type": "stream",
          "name": "stdout",
          "text": [
            "Found 394 images belonging to 4 classes.\n"
          ]
        }
      ]
    },
    {
      "cell_type": "code",
      "source": [
        "import tensorflow as tf\n",
        "from tensorflow import keras\n",
        "from keras import Sequential\n",
        "from keras.layers import Dense,Conv2D,MaxPooling2D,Flatten,BatchNormalization,Dropout"
      ],
      "metadata": {
        "id": "KaXZg-1d6pO8"
      },
      "execution_count": 15,
      "outputs": []
    },
    {
      "cell_type": "code",
      "source": [
        "model = Sequential()\n",
        "\n",
        "model.add(Conv2D(32,kernel_size=(3,3),padding='valid',activation='relu',input_shape=(150,150,3)))\n",
        "model.add(BatchNormalization())\n",
        "model.add(MaxPooling2D(pool_size=(2,2),strides=2,padding='valid'))\n",
        "\n",
        "model.add(Conv2D(64,kernel_size=(3,3),padding='valid',activation='relu'))\n",
        "model.add(BatchNormalization())\n",
        "model.add(MaxPooling2D(pool_size=(2,2),strides=2,padding='valid'))\n",
        "\n",
        "model.add(Conv2D(128,kernel_size=(3,3),padding='valid',activation='relu'))\n",
        "model.add(BatchNormalization())\n",
        "model.add(MaxPooling2D(pool_size=(2,2),strides=2,padding='valid'))\n",
        "\n",
        "model.add(Flatten())\n",
        "\n",
        "model.add(Dense(128,activation='relu'))\n",
        "model.add(Dropout(0.1))\n",
        "model.add(Dense(64,activation='relu'))\n",
        "model.add(Dropout(0.1))\n",
        "model.add(Dense(4,activation='softmax'))"
      ],
      "metadata": {
        "id": "-U7mNyW364vn"
      },
      "execution_count": 17,
      "outputs": []
    },
    {
      "cell_type": "code",
      "source": [
        "model.summary()"
      ],
      "metadata": {
        "colab": {
          "base_uri": "https://localhost:8080/"
        },
        "id": "kCi0KBC06-2z",
        "outputId": "0885e8ed-3c67-44b4-876c-8851e6b06932"
      },
      "execution_count": 18,
      "outputs": [
        {
          "output_type": "stream",
          "name": "stdout",
          "text": [
            "Model: \"sequential_1\"\n",
            "_________________________________________________________________\n",
            " Layer (type)                Output Shape              Param #   \n",
            "=================================================================\n",
            " conv2d_3 (Conv2D)           (None, 148, 148, 32)      896       \n",
            "                                                                 \n",
            " batch_normalization_3 (Batc  (None, 148, 148, 32)     128       \n",
            " hNormalization)                                                 \n",
            "                                                                 \n",
            " max_pooling2d_3 (MaxPooling  (None, 74, 74, 32)       0         \n",
            " 2D)                                                             \n",
            "                                                                 \n",
            " conv2d_4 (Conv2D)           (None, 72, 72, 64)        18496     \n",
            "                                                                 \n",
            " batch_normalization_4 (Batc  (None, 72, 72, 64)       256       \n",
            " hNormalization)                                                 \n",
            "                                                                 \n",
            " max_pooling2d_4 (MaxPooling  (None, 36, 36, 64)       0         \n",
            " 2D)                                                             \n",
            "                                                                 \n",
            " conv2d_5 (Conv2D)           (None, 34, 34, 128)       73856     \n",
            "                                                                 \n",
            " batch_normalization_5 (Batc  (None, 34, 34, 128)      512       \n",
            " hNormalization)                                                 \n",
            "                                                                 \n",
            " max_pooling2d_5 (MaxPooling  (None, 17, 17, 128)      0         \n",
            " 2D)                                                             \n",
            "                                                                 \n",
            " flatten_1 (Flatten)         (None, 36992)             0         \n",
            "                                                                 \n",
            " dense_3 (Dense)             (None, 128)               4735104   \n",
            "                                                                 \n",
            " dropout_2 (Dropout)         (None, 128)               0         \n",
            "                                                                 \n",
            " dense_4 (Dense)             (None, 64)                8256      \n",
            "                                                                 \n",
            " dropout_3 (Dropout)         (None, 64)                0         \n",
            "                                                                 \n",
            " dense_5 (Dense)             (None, 4)                 260       \n",
            "                                                                 \n",
            "=================================================================\n",
            "Total params: 4,837,764\n",
            "Trainable params: 4,837,316\n",
            "Non-trainable params: 448\n",
            "_________________________________________________________________\n"
          ]
        }
      ]
    },
    {
      "cell_type": "code",
      "source": [
        "model.compile(optimizer='adam',loss='sparse_categorical_crossentropy',metrics=['accuracy'])"
      ],
      "metadata": {
        "id": "ciKRtLsW6-8K"
      },
      "execution_count": 19,
      "outputs": []
    },
    {
      "cell_type": "code",
      "source": [
        "history=model.fit_generator(\n",
        "        train_generator,\n",
        "        steps_per_epoch=2000 // batch_size,\n",
        "        epochs=50,\n",
        "        validation_data=validation_generator,\n",
        "        validation_steps=800 // batch_size)\n"
      ],
      "metadata": {
        "colab": {
          "base_uri": "https://localhost:8080/"
        },
        "id": "m_tBZakjBR8p",
        "outputId": "661f01ce-97d3-4895-d022-f98ebb7d819c"
      },
      "execution_count": null,
      "outputs": [
        {
          "metadata": {
            "tags": null
          },
          "name": "stderr",
          "output_type": "stream",
          "text": [
            "<ipython-input-20-b759271384ce>:1: UserWarning: `Model.fit_generator` is deprecated and will be removed in a future version. Please use `Model.fit`, which supports generators.\n",
            "  history=model.fit_generator(\n"
          ]
        },
        {
          "metadata": {
            "tags": null
          },
          "name": "stdout",
          "output_type": "stream",
          "text": [
            "Epoch 1/50\n",
            "125/125 [==============================] - ETA: 0s - loss: 2.5812 - accuracy: 0.4695"
          ]
        },
        {
          "metadata": {
            "tags": null
          },
          "name": "stderr",
          "output_type": "stream",
          "text": [
            "WARNING:tensorflow:Your input ran out of data; interrupting training. Make sure that your dataset or generator can generate at least `steps_per_epoch * epochs` batches (in this case, 50 batches). You may need to use the repeat() function when building your dataset.\n"
          ]
        },
        {
          "output_type": "stream",
          "name": "stdout",
          "text": [
            "125/125 [==============================] - 143s 1s/step - loss: 2.5812 - accuracy: 0.4695 - val_loss: 4.5406 - val_accuracy: 0.2563\n",
            "Epoch 2/50\n",
            "125/125 [==============================] - 131s 1s/step - loss: 1.2276 - accuracy: 0.5116\n",
            "Epoch 3/50\n",
            "125/125 [==============================] - 131s 1s/step - loss: 1.0747 - accuracy: 0.5505\n",
            "Epoch 4/50\n",
            "125/125 [==============================] - 131s 1s/step - loss: 0.9821 - accuracy: 0.5643\n",
            "Epoch 5/50\n",
            "125/125 [==============================] - 130s 1s/step - loss: 0.9315 - accuracy: 0.5879\n",
            "Epoch 6/50\n",
            "125/125 [==============================] - 131s 1s/step - loss: 0.8837 - accuracy: 0.6120\n",
            "Epoch 7/50\n",
            "125/125 [==============================] - 130s 1s/step - loss: 0.8483 - accuracy: 0.6256\n",
            "Epoch 8/50\n",
            "125/125 [==============================] - 130s 1s/step - loss: 0.8208 - accuracy: 0.6477\n",
            "Epoch 9/50\n",
            "125/125 [==============================] - 130s 1s/step - loss: 0.8280 - accuracy: 0.6347\n",
            "Epoch 10/50\n",
            "125/125 [==============================] - 133s 1s/step - loss: 0.7411 - accuracy: 0.6714\n",
            "Epoch 11/50\n",
            "125/125 [==============================] - 130s 1s/step - loss: 0.7234 - accuracy: 0.6884\n",
            "Epoch 12/50\n",
            "125/125 [==============================] - 131s 1s/step - loss: 0.7489 - accuracy: 0.6785\n",
            "Epoch 13/50\n",
            "125/125 [==============================] - 128s 1s/step - loss: 0.6448 - accuracy: 0.7251\n",
            "Epoch 14/50\n",
            "125/125 [==============================] - 127s 1s/step - loss: 0.6472 - accuracy: 0.7216\n",
            "Epoch 15/50\n",
            "125/125 [==============================] - 128s 1s/step - loss: 0.6682 - accuracy: 0.7241\n",
            "Epoch 16/50\n",
            "125/125 [==============================] - 128s 1s/step - loss: 0.6364 - accuracy: 0.7201\n",
            "Epoch 17/50\n",
            "125/125 [==============================] - 130s 1s/step - loss: 0.6130 - accuracy: 0.7435\n",
            "Epoch 18/50\n",
            "125/125 [==============================] - 131s 1s/step - loss: 0.6032 - accuracy: 0.7460\n",
            "Epoch 19/50\n",
            "125/125 [==============================] - 129s 1s/step - loss: 0.5918 - accuracy: 0.7608\n",
            "Epoch 20/50\n",
            "125/125 [==============================] - 128s 1s/step - loss: 0.5600 - accuracy: 0.7744\n",
            "Epoch 21/50\n",
            "125/125 [==============================] - 129s 1s/step - loss: 0.5588 - accuracy: 0.7754\n",
            "Epoch 22/50\n",
            "125/125 [==============================] - 129s 1s/step - loss: 0.4813 - accuracy: 0.8015\n",
            "Epoch 23/50\n",
            "125/125 [==============================] - 128s 1s/step - loss: 0.4828 - accuracy: 0.8030\n",
            "Epoch 24/50\n",
            "125/125 [==============================] - 128s 1s/step - loss: 0.4705 - accuracy: 0.8030\n",
            "Epoch 25/50\n",
            "125/125 [==============================] - 129s 1s/step - loss: 0.4937 - accuracy: 0.8010\n",
            "Epoch 26/50\n",
            "125/125 [==============================] - 129s 1s/step - loss: 0.4693 - accuracy: 0.7985\n",
            "Epoch 27/50\n",
            "125/125 [==============================] - 127s 1s/step - loss: 0.5044 - accuracy: 0.8040\n",
            "Epoch 28/50\n",
            "125/125 [==============================] - 129s 1s/step - loss: 0.4372 - accuracy: 0.8231\n",
            "Epoch 29/50\n",
            "125/125 [==============================] - 128s 1s/step - loss: 0.4120 - accuracy: 0.8322\n",
            "Epoch 30/50\n",
            "125/125 [==============================] - 128s 1s/step - loss: 0.4022 - accuracy: 0.8533\n",
            "Epoch 31/50\n",
            "122/125 [============================>.] - ETA: 3s - loss: 0.4162 - accuracy: 0.8208"
          ]
        }
      ]
    },
    {
      "cell_type": "code",
      "source": [
        "import matplotlib.pyplot as plt\n",
        "\n",
        "plt.plot(history.history['accuracy'],color='red',label='train')\n",
        "plt.plot(history.history['val_accuracy'],color='blue',label='validation')\n",
        "plt.legend()\n",
        "plt.show()"
      ],
      "metadata": {
        "id": "Gez9aax8DF89"
      },
      "execution_count": null,
      "outputs": []
    },
    {
      "cell_type": "code",
      "source": [
        "plt.plot(history.history['accuracy'],color='red',label='train')\n",
        "plt.plot(history.history['val_accuracy'],color='blue',label='validation')\n",
        "plt.legend()\n",
        "plt.show()"
      ],
      "metadata": {
        "id": "RaGNgr3fDGR7"
      },
      "execution_count": null,
      "outputs": []
    }
  ]
}